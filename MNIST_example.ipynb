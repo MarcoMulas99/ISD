{
  "nbformat": 4,
  "nbformat_minor": 0,
  "metadata": {
    "colab": {
      "name": "MNIST-example.ipynb",
      "provenance": [],
      "collapsed_sections": [],
      "toc_visible": true,
      "authorship_tag": "ABX9TyOQ4AUeU31VgIasyPKRS4g0",
      "include_colab_link": true
    },
    "kernelspec": {
      "name": "python3",
      "display_name": "Python 3"
    },
    "language_info": {
      "name": "python"
    }
  },
  "cells": [
    {
      "cell_type": "markdown",
      "metadata": {
        "id": "view-in-github",
        "colab_type": "text"
      },
      "source": [
        "<a href=\"https://colab.research.google.com/github/MarcoMulas99/ISD/blob/main/MNIST_example.ipynb\" target=\"_parent\"><img src=\"https://colab.research.google.com/assets/colab-badge.svg\" alt=\"Open In Colab\"/></a>"
      ]
    },
    {
      "cell_type": "markdown",
      "metadata": {
        "id": "J9LGEh0Vv2Pe"
      },
      "source": [
        "**MNIST Handwritten Digit Dataset**"
      ]
    },
    {
      "cell_type": "code",
      "metadata": {
        "id": "88HfeitMzkU1"
      },
      "source": [
        "from sklearn.datasets import fetch_openml\n",
        "\n",
        "mnist = fetch_openml('mnist_784', cache=True)"
      ],
      "execution_count": 1,
      "outputs": []
    },
    {
      "cell_type": "code",
      "metadata": {
        "colab": {
          "base_uri": "https://localhost:8080/",
          "height": 607
        },
        "id": "sfgA_61Bz7Ru",
        "outputId": "dd0aecd3-bea3-43cb-b90a-8fb9d10c3116"
      },
      "source": [
        "import numpy as np\n",
        "from matplotlib import pyplot as plt\n",
        "\n",
        "x = mnist.data / 255\n",
        "y = np.array(mnist.target, dtype = int)\n",
        "\n",
        "#print(x.shape, y.shape)\n",
        "#print(y[0:10])\n",
        "plt.figure(figsize=(10,5))\n",
        "\n",
        "for i in range(10):\n",
        "  plt.subplot(2,5,i+1)\n",
        "  img = x[i,:].reshape(28,28)\n",
        "  plt.imshow(img, cmap='Greys')\n",
        "  plt.title(\"Label:\"+str(y[i]))\n",
        "\n",
        "# count how many elements i hava in each class\n",
        "def samples_per_class(y):\n",
        "  labels = np.unique(y)\n",
        "  n_classes = labels.size\n",
        "\n",
        "  n_samples_per_class = np.zeros(shape=(n_classes),dtype=int)\n",
        "\n",
        "  for i in range(n_classes):\n",
        "    n_samples_per_class[i] = sum(y==i)\n",
        "  print(n_samples_per_class)\n",
        "\n",
        "  plt.figure()\n",
        "  plt.bar(labels,n_samples_per_class)\n",
        "  return n_samples_per_class, labels\n",
        "\n",
        "samples_per_class(y)"
      ],
      "execution_count": 18,
      "outputs": [
        {
          "output_type": "stream",
          "name": "stdout",
          "text": [
            "[6903 7877 6990 7141 6824 6313 6876 7293 6825 6958]\n"
          ]
        },
        {
          "output_type": "execute_result",
          "data": {
            "text/plain": [
              "(array([6903, 7877, 6990, 7141, 6824, 6313, 6876, 7293, 6825, 6958]),\n",
              " array([0, 1, 2, 3, 4, 5, 6, 7, 8, 9]))"
            ]
          },
          "metadata": {},
          "execution_count": 18
        },
        {
          "output_type": "display_data",
          "data": {
            "image/png": "[encoded data removed]",
            "text/plain": [
              "<Figure size 720x360 with 10 Axes>"
            ]
          },
          "metadata": {
            "needs_background": "light"
          }
        },
        {
          "output_type": "display_data",
          "data": {
            "image/png": "[encoded data removed]",
            "text/plain": [
              "<Figure size 432x288 with 1 Axes>"
            ]
          },
          "metadata": {
            "needs_background": "light"
          }
        }
      ]
    },
    {
      "cell_type": "code",
      "metadata": {
        "colab": {
          "base_uri": "https://localhost:8080/",
          "height": 565
        },
        "id": "ySoRRKApyfab",
        "outputId": "c27fb19f-7ef9-4fee-a062-e6569ee873af"
      },
      "source": [
        "# data splits: goal is to split X,y into two disjoint sets.\n",
        "\n",
        "n_tr = 1000\n",
        "n_ts = 1000\n",
        "\n",
        "def split_data(x,y, n_tr, n_ts):\n",
        "  n_samples = x.shape[0]\n",
        "\n",
        "  idx = np.linspace(0, n_samples-1, num=n_samples, dtype=int)\n",
        "  np.random.shuffle(idx)\n",
        "  print(idx)\n",
        "\n",
        "  idx_tr = idx[:n_tr]\n",
        "  idx_ts = idx[n_tr:n_tr+n_ts]\n",
        "\n",
        "  x_tr = x[idx_tr, :]\n",
        "  y_tr = y[idx_tr]\n",
        "\n",
        "  x_ts = x[idx_ts, :]\n",
        "  y_ts = y[idx_ts]\n",
        "\n",
        "  return x_tr, y_tr, x_ts, y_ts\n",
        "\n",
        "x_tr, y_tr, x_ts, y_ts = split_data(x, y, n_tr, n_ts)\n",
        "\n",
        "n_tr_samples_per_class, class_labels = samples_per_class(y_tr)\n",
        "n_ts_samples_per_class, class_labels = samples_per_class(y_ts)\n"
      ],
      "execution_count": 31,
      "outputs": [
        {
          "output_type": "stream",
          "name": "stdout",
          "text": [
            "[62544 32205 65040 ...   988 69922  5386]\n",
            "[ 90 101 101 111  93  88 112  99 104 101]\n",
            "[105 107  97 116  99  91  89  95 108  93]\n"
          ]
        },
        {
          "output_type": "display_data",
          "data": {
            "image/png": "[encoded data removed]",
            "text/plain": [
              "<Figure size 432x288 with 1 Axes>"
            ]
          },
          "metadata": {
            "needs_background": "light"
          }
        },
        {
          "output_type": "display_data",
          "data": {
            "image/png": "[encoded data removed]",
            "text/plain": [
              "<Figure size 432x288 with 1 Axes>"
            ]
          },
          "metadata": {
            "needs_background": "light"
          }
        }
      ]
    },
    {
      "cell_type": "code",
      "metadata": {
        "colab": {
          "base_uri": "https://localhost:8080/",
          "height": 308
        },
        "id": "1jBxMvYE9Xsf",
        "outputId": "8d2f2a74-a9dd-4bc3-dc21-e0f06aeb711a"
      },
      "source": [
        "#we want to compute di average (centroid) image for each class (from the trainig set)\n",
        "def fit(x_tr, y_tr):\n",
        "  n_classes = np.unique(y_tr).size\n",
        "  n_features = x_tr.shape[1]\n",
        "\n",
        "  centroids = np.zeros(shape=(n_classes, n_features))\n",
        "\n",
        "  #print(centroids.shape)\n",
        "  for k in range(n_classes):\n",
        "    xk = x_tr[y_tr==k,:]\n",
        "    centroids[k] = np.mean(xk, axis=0)\n",
        "    #plt.imshow(centroids[k].reshape(28,28))\n",
        "  return centroids\n",
        "\n",
        "centroids=fit(x_tr, y_tr)\n",
        "\n",
        "#visualize the centroids\n",
        "plt.figure(figsize=(10,5))\n",
        "for k in range(n_classes):\n",
        "  plt.subplot(2,5,k+1)\n",
        "  img = centroids[k,:].reshape(28,28)\n",
        "  plt.imshow(img, cmap='Greys')\n",
        "  plt.title(\"Label:\"+str(y[i]))\n",
        "\n"
      ],
      "execution_count": 38,
      "outputs": [
        {
          "output_type": "display_data",
          "data": {
            "image/png": "[encoded data removed]",
            "text/plain": [
              "<Figure size 720x360 with 10 Axes>"
            ]
          },
          "metadata": {
            "needs_background": "light"
          }
        }
      ]
    },
    {
      "cell_type": "code",
      "metadata": {
        "colab": {
          "base_uri": "https://localhost:8080/"
        },
        "id": "yfRq-Ud8E4RU",
        "outputId": "8dd9e332-d409-4a85-eda7-5ff9abc0df78"
      },
      "source": [
        "from sklearn.metrics import pairwise_distances\n",
        "#predict\n",
        "n_ts_samples = x_ts.shape[0]\n",
        "n_classes = centroids.shape[0]\n",
        "\n",
        "dist = np.zeros(shape = (n_ts_samples, n_classes))\n",
        "\n",
        "'''\n",
        "#start_time = time.time()\n",
        "for i in range(n_ts_samples):\n",
        "  for k in range(n_classes):\n",
        "    dist[i,k] = np.sum((x_ts[i,:]-centroids[k,:])**2)\n",
        "#print(time.time()-start_time)\n",
        "\n",
        "#start_time = time.time()\n",
        "for k in range(n_classes):\n",
        "  dist[:,k] = np.sqrt(np.sum((x_ts-centroids[k,:])**2, axis=1))\n",
        "#print(time.time()-start_time)\n",
        "  \n",
        "#start_time = time.time()\n",
        "dist = pairwise_distances(x_ts, centroids)\n",
        "#print(time.time()-start_time)\n",
        "\n",
        "#print(dist)\n",
        "\n",
        "m = np.argmin(dist, axis=1)\n",
        "print(m.shape)\n",
        "'''\n",
        "\n",
        "def predict (x_ts, centroids):\n",
        "  dist = pairwise_distances(x_ts, centroids)\n",
        "  y_pred = np.argmin(dist, axis=1)\n",
        "  return y_pred\n",
        "\n",
        "y_pred = predict(x_ts, centroids)\n",
        "\n",
        "print(y_pred.shape, y_ts.shape)\n",
        "print(y_pred-y_ts)\n",
        "\n"
      ],
      "execution_count": 52,
      "outputs": [
        {
          "output_type": "stream",
          "name": "stdout",
          "text": [
            "(1000,) (1000,)\n",
            "[ 0  0  0  0  0 -4  0  0 -2  0  0  0  0  0  0  0  0  0  0  0  0  0  0  0\n",
            " -2  0  0  0  0  0  0  0  0  0  0  4  0  0  0  0  0 -4  0  6  0  5  0  0\n",
            "  0  0  0  0  0  0  0  0  0  0 -1  0 -4  2  0  0  2  0  1  0  0 -2  5  0\n",
            " -3  0  0  0  0  0  0  0  0 -6  0  1  0  0 -3  0 -1  0  0  0  0  0  0 -5\n",
            "  1  0  0  0  0  0  1  0  0  0  0  0  0 -2 -2  0  0  0  4  0  0  0  0 -1\n",
            "  0 -5  0  0  0  1  0  2  0  0  0  0  0  0  0 -5  0  0  0  0  2  2  0  0\n",
            "  0  0  2  0  0  0  0  0  0  0  0  0  0  0  0 -2  1  0  0  0  0  0  0  0\n",
            "  0  0  0  0  0  0 -6  0  0 -1 -3  0  0  0  0  0  0  7  0  0  0  0  0  0\n",
            " -4  0  0  2  0  1  0 -1  2  8  0  0 -2  0  0  0  0  0  0  0  0 -7  0  5\n",
            " -1  0  0  0  0  0 -7 -3 -4  0  0  0  0  0  0  0  0  0  0  0  5 -2  0  2\n",
            "  0  0 -5  0  0  5  1 -5  5  0  0  0  5 -2  0  0 -1  0  0  0  0  0  0  0\n",
            "  2  0 -6  0  0  0 -8  0 -6  0  0  0  0  0 -3  0  0 -4 -2  5 -2  0  4  0\n",
            "  0  0  0  0  0  0 -5  7  0  0 -2  0  0  0  0  0  0  4 -8  0  0  0  0  0\n",
            "  0 -5  0  0  0  2  0  7  0  0 -6  0  1  0  0 -1  0  0  0  0  0  0  0  0\n",
            "  2  2  0  0  0  0  0 -2  0  0  0 -2  0  0  0 -2  0 -5  0  0  0  4  0  0\n",
            "  0  0  0 -2  2  0  0 -4  0  0 -1  0  0  0  0 -6  2  0 -7  0  0  0  0  0\n",
            "  1  0  0  0  0 -4 -1  0 -2  0  0 -4  0  0  0 -5  0  0  0  0  0  6  0  6\n",
            "  0  0  0  0  1  0  0  5  0  0  0  0  0  0  0  0  0  0  5  0  5  0 -3  0\n",
            " -1  0 -6  0  0  0  2 -4  0 -1  0  0  0  0  0  0  0  0  0  0  0  0  0  0\n",
            "  5  0  0 -1  0  0  0  0  0  5  0  0 -1  0  5  0  0  0  1  0  0 -5  0  5\n",
            "  2  0 -5  0  0  0  0  0  0  0  0 -5 -1  0  0  0 -3  0  0  0  0  0  0  0\n",
            "  0 -2  0  0  0  0  0  0  0  0  0  0  0  0  0  0  0  0 -5 -4  0  0  0  0\n",
            " -2  0  0 -2  0  0  0  0 -2  0  0  0  0  0  0  0  1 -5  5 -5  0  0 -5  1\n",
            "  4 -1  0  0  0  0  0  0  0 -7  0  0  0  5  0  0  0  0  0  5  0  0 -2  0\n",
            "  0  0  0  0  0  0  0  0  0  0  0 -4  0  0  0  0  0  0  0  1 -7  0  0  0\n",
            "  0  0  0  0 -2  0 -4  0  0  0  0  0  0  0  0  2  0  0  2  0  0  0  0  0\n",
            "  0  0  0  0  0 -5 -1  1  0  0  5  0  0  0  0  0  0  0  1  0  0  0  0  0\n",
            " -5  0 -5  0  0  0  0  0  0  0  0  0  0  0  0  0  0  0  0  0  1  0  0  0\n",
            "  0  0  0  0  5  3  0  0  0  0  0  0  0  0 -2  0  0  0  0  0  0  0  0  0\n",
            "  0  0  0  0  0  0  0  0  0  0  0  0  0  0  0  0  0  0  0  0  0  0 -6  0\n",
            "  0  0 -6  0 -4  0  0  0  0  0  0  0  0  7  0 -2  2  0  4  0  0  0  0  0\n",
            "  0  0  0  0  0  0  0  0  0  0  0  0  0  0  0 -5  5  5  1  6  0  0  6  0\n",
            "  3  0 -5  0 -2  0  0  0  0  0  0  0  0  0  0  0  0  0  0  0  0  0  0 -4\n",
            " -6  0  0  0 -6  2  2  0  1  0  0  1  0 -7  0  0 -5  0  0  0  0 -5  0  0\n",
            "  2  0  0  0 -4  0  0  0  0  0  0  0  7  0  0  0  0  0  0  1  0  0  0 -2\n",
            "  0  0  0  0  0  0  0  5  0  0  0 -2  6 -1  0 -2  0  0  0  0  0  0  0  0\n",
            "  0  0  0  0  0 -1 -5  0  0  0  0  0 -5  0  0  5 -4  0  0  0  0  0  0  0\n",
            "  0  0 -7  2  0 -7  0 -7 -2  0  0 -5  0  0  0  0  0  1  0  1  0  0  0  0\n",
            "  0  0  0  2  0  0  0  0  0 -1  0  0  0  0  0  0  0  0  0  0  0  0  0  0\n",
            "  0  0  0  0  0  0  0  0  0  0  0  0  0  1  0  0  0  0  0  0  0 -5  5 -1\n",
            "  7  0  0  0  3  0  0  0  0  0  1  0  0  0 -1  0  0  8  0 -3  3  0  2  0\n",
            "  0  0  5  0  0  0  0  0  0  0  0  0 -8 -2  0  0]\n"
          ]
        }
      ]
    }
  ]
}